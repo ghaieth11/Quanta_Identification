{
 "cells": [
  {
   "cell_type": "code",
   "execution_count": 3,
   "metadata": {},
   "outputs": [],
   "source": [
    "import numpy as np\n",
    "import scipy.optimize\n",
    "import matplotlib.pyplot as plt\n",
    "from scipy.linalg import expm"
   ]
  },
  {
   "cell_type": "markdown",
   "metadata": {},
   "source": [
    "# Construction de la matrice A de vectorisation"
   ]
  },
  {
   "cell_type": "code",
   "execution_count": 35,
   "metadata": {},
   "outputs": [
    {
     "name": "stdout",
     "output_type": "stream",
     "text": [
      "[2.98095799e+03+0.j 8.88611052e+06+0.j 1.12535175e-07+0.j\n",
      " 1.00000000e+00+0.j]\n"
     ]
    }
   ],
   "source": [
    "def Hamiltonian(omega : float, u : float, kappa : float ) :\n",
    "    H = np.array([[omega, u*kappa],[u*kappa,-omega]])\n",
    "    return H \n",
    "\n",
    "\n",
    "\n",
    "# definir les constantes du probleme : \n",
    "u = 1 # controle \n",
    "omega = 5\n",
    "kappa = 8\n",
    "gamma_1 = 3\n",
    "gamma_2 = 4\n",
    "\n",
    "# les matrices de Pauli \n",
    "\n",
    "X = np.array([[0, 1],[1,0]])\n",
    "Y = np.array([[0, complex(0,-1)],[complex(0,1),0]])\n",
    "Z = np.array([[1, 0],[0,-1]])\n",
    "\n",
    "#Les matrices Sigma : \n",
    "Sigma_plus = X + complex(0,1) * Y\n",
    "Sigma_minus = X - complex(0,1) * Y\n",
    "\n",
    "H = Hamiltonian(omega,u,kappa)\n",
    "I = np.eye(2)\n",
    "\n",
    "# La matrice de vectorisation A : \n",
    "A = np.kron(I,H) - np.kron(H,I) + gamma_1*(np.kron(Sigma_minus.conj().T,Sigma_plus) - 0.5*(np.kron(I,np.dot(Sigma_minus,Sigma_plus)) + np.kron(np.matmul(Sigma_minus,Sigma_plus).conj().T,I) )) + gamma_2*(np.kron(Z,Z))\n",
    "\n",
    "\n",
    "# Résolution de l'equation de Linblad\n",
    "def V_cal(t : float, A : np.array, V0) -> np.array : \n",
    "    return np.matmul(np.exp(t*A),V0)\n",
    "\n",
    "\n",
    "# Dans notre cas : Si V0 = vec(|0><0|)\n",
    "V0 = np.array([1,0,0,0])\n",
    "V = V_cal(2,A,V0)\n",
    "print(V)"
   ]
  },
  {
   "cell_type": "markdown",
   "metadata": {},
   "source": [
    "# Collection de la Data à plusieurs temps de mesure : "
   ]
  },
  {
   "cell_type": "markdown",
   "metadata": {},
   "source": [
    "On se donne un operateur de mesure E0 = |0> <0|, la probability d'observer l'etat pur E0 est donner par $tr(E_1AE_1)$\n",
    "On la modelise par une experience de Bernouilli de paramétre $p = tr(E_1AE_1)$\n",
    "\n"
   ]
  },
  {
   "cell_type": "code",
   "execution_count": 45,
   "metadata": {},
   "outputs": [],
   "source": [
    "def Observation(V,t:float,nb_experience : int) : \n",
    "    V = V_cal(t,A,V0)\n",
    "    rho = np.array([[V_t[0], V_t[2]], \n",
    "                    [V_t[1], V_t[3]]], dtype=np.complex128)\n",
    "    E0 = np.array([[1, 0], [0, 0]])\n",
    "    p = np.trace(E0 @ rho @ E0).real\n",
    "    return np.random.binomial(n=1, p=p, size=nb_experience)"
   ]
  },
  {
   "cell_type": "code",
   "execution_count": 46,
   "metadata": {},
   "outputs": [
    {
     "name": "stdout",
     "output_type": "stream",
     "text": [
      "V(2) = [2.98095799e+03+0.j 8.88611052e+06+0.j 1.12535175e-07+0.j\n",
      " 1.00000000e+00+0.j]\n"
     ]
    },
    {
     "ename": "ValueError",
     "evalue": "p < 0, p > 1 or p is NaN",
     "output_type": "error",
     "traceback": [
      "\u001b[0;31m---------------------------------------------------------------------------\u001b[0m",
      "\u001b[0;31mValueError\u001b[0m                                Traceback (most recent call last)",
      "Cell \u001b[0;32mIn[46], line 9\u001b[0m\n\u001b[1;32m      7\u001b[0m \u001b[38;5;66;03m# Simulation de 1000 mesures\u001b[39;00m\n\u001b[1;32m      8\u001b[0m nb_experience \u001b[38;5;241m=\u001b[39m \u001b[38;5;241m1000\u001b[39m\n\u001b[0;32m----> 9\u001b[0m observations \u001b[38;5;241m=\u001b[39m \u001b[43mObservation\u001b[49m\u001b[43m(\u001b[49m\u001b[43mV\u001b[49m\u001b[43m,\u001b[49m\u001b[43m \u001b[49m\u001b[43mt\u001b[49m\u001b[43m,\u001b[49m\u001b[43m \u001b[49m\u001b[43mnb_experience\u001b[49m\u001b[43m)\u001b[49m\n",
      "Cell \u001b[0;32mIn[45], line 7\u001b[0m, in \u001b[0;36mObservation\u001b[0;34m(V, t, nb_experience)\u001b[0m\n\u001b[1;32m      5\u001b[0m E0 \u001b[38;5;241m=\u001b[39m np\u001b[38;5;241m.\u001b[39marray([[\u001b[38;5;241m1\u001b[39m, \u001b[38;5;241m0\u001b[39m], [\u001b[38;5;241m0\u001b[39m, \u001b[38;5;241m0\u001b[39m]])\n\u001b[1;32m      6\u001b[0m p \u001b[38;5;241m=\u001b[39m np\u001b[38;5;241m.\u001b[39mtrace(E0 \u001b[38;5;241m@\u001b[39m rho \u001b[38;5;241m@\u001b[39m E0)\u001b[38;5;241m.\u001b[39mreal\n\u001b[0;32m----> 7\u001b[0m \u001b[38;5;28;01mreturn\u001b[39;00m \u001b[43mnp\u001b[49m\u001b[38;5;241;43m.\u001b[39;49m\u001b[43mrandom\u001b[49m\u001b[38;5;241;43m.\u001b[39;49m\u001b[43mbinomial\u001b[49m\u001b[43m(\u001b[49m\u001b[43mn\u001b[49m\u001b[38;5;241;43m=\u001b[39;49m\u001b[38;5;241;43m1\u001b[39;49m\u001b[43m,\u001b[49m\u001b[43m \u001b[49m\u001b[43mp\u001b[49m\u001b[38;5;241;43m=\u001b[39;49m\u001b[43mp\u001b[49m\u001b[43m,\u001b[49m\u001b[43m \u001b[49m\u001b[43msize\u001b[49m\u001b[38;5;241;43m=\u001b[39;49m\u001b[43mnb_experience\u001b[49m\u001b[43m)\u001b[49m\n",
      "File \u001b[0;32mnumpy/random/mtrand.pyx:3486\u001b[0m, in \u001b[0;36mnumpy.random.mtrand.RandomState.binomial\u001b[0;34m()\u001b[0m\n",
      "File \u001b[0;32m_common.pyx:430\u001b[0m, in \u001b[0;36mnumpy.random._common.check_constraint\u001b[0;34m()\u001b[0m\n",
      "\u001b[0;31mValueError\u001b[0m: p < 0, p > 1 or p is NaN"
     ]
    }
   ],
   "source": [
    "    # Calcul de V(t) pour t = 2\n",
    "    V0 = np.array([1, 0, 0, 0], dtype=np.complex128)\n",
    "    t = 2\n",
    "    V_t = V_cal(t, A, V0)\n",
    "    print(f\"V(2) = {V_t}\")\n",
    "\n",
    "    # Simulation de 1000 mesures\n",
    "    nb_experience = 1000\n",
    "    observations = Observation(V, t, nb_experience)"
   ]
  },
  {
   "cell_type": "code",
   "execution_count": 49,
   "metadata": {},
   "outputs": [
    {
     "data": {
      "text/plain": [
       "2980.9579870417283"
      ]
     },
     "execution_count": 49,
     "metadata": {},
     "output_type": "execute_result"
    }
   ],
   "source": []
  },
  {
   "cell_type": "code",
   "execution_count": null,
   "metadata": {},
   "outputs": [],
   "source": []
  }
 ],
 "metadata": {
  "kernelspec": {
   "display_name": "Python 3",
   "language": "python",
   "name": "python3"
  },
  "language_info": {
   "codemirror_mode": {
    "name": "ipython",
    "version": 3
   },
   "file_extension": ".py",
   "mimetype": "text/x-python",
   "name": "python",
   "nbconvert_exporter": "python",
   "pygments_lexer": "ipython3",
   "version": "3.12.7"
  }
 },
 "nbformat": 4,
 "nbformat_minor": 2
}
