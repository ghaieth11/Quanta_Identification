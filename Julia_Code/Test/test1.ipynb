{
 "cells": [
  {
   "cell_type": "code",
   "execution_count": 1,
   "metadata": {},
   "outputs": [
    {
     "ename": "UndefVarError",
     "evalue": "UndefVarError: `new` not defined in `Main.QuantumEstimator.QubitModule`\nSuggestion: check for spelling errors or missing imports.",
     "output_type": "error",
     "traceback": [
      "UndefVarError: `new` not defined in `Main.QuantumEstimator.QubitModule`\n",
      "Suggestion: check for spelling errors or missing imports.\n",
      "\n",
      "Stacktrace:\n",
      " [1] Qubit(omega::Float64, kappa::Float64, gamma1::Float64, gamma2::Float64)\n",
      "   @ Main.QuantumEstimator.QubitModule ~/Documents/MyFiles(G.aloui)/Prepa & Studies/INRIA/IdentificationCode/Julia_Code/QubitModule.jl:16\n",
      " [2] top-level scope\n",
      "   @ ~/Documents/MyFiles(G.aloui)/Prepa & Studies/INRIA/IdentificationCode/Julia_Code/Test/test1.ipynb:4"
     ]
    }
   ],
   "source": [
    "include(\"../QubitModule.jl\")\n",
    "using .QuantumEstimator\n",
    "\n",
    "q = Qubit(1.0, 0.5, 0.1, 0.05)\n",
    "println(q)"
   ]
  },
  {
   "cell_type": "code",
   "execution_count": null,
   "metadata": {},
   "outputs": [],
   "source": []
  }
 ],
 "metadata": {
  "kernelspec": {
   "display_name": "Julia 1.11.1",
   "language": "julia",
   "name": "julia-1.11"
  },
  "language_info": {
   "file_extension": ".jl",
   "mimetype": "application/julia",
   "name": "julia",
   "version": "1.11.1"
  }
 },
 "nbformat": 4,
 "nbformat_minor": 2
}
